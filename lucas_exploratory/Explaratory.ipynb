{
 "cells": [
  {
   "cell_type": "code",
   "execution_count": 23,
   "metadata": {},
   "outputs": [],
   "source": [
    "import pandas as pd\n",
    "import seaborn as sns\n",
    "from datetime import datetime, date\n"
   ]
  },
  {
   "cell_type": "code",
   "execution_count": 24,
   "metadata": {},
   "outputs": [
    {
     "data": {
      "text/plain": [
       "0       20709\n",
       "2010     2645\n",
       "2008     2613\n",
       "2009     2533\n",
       "2000     2091\n",
       "2007     1587\n",
       "2006     1471\n",
       "2003     1286\n",
       "2011     1256\n",
       "2004     1123\n",
       "2012     1084\n",
       "2002     1075\n",
       "1978     1037\n",
       "1995     1014\n",
       "2005     1011\n",
       "1999      979\n",
       "1998      966\n",
       "1990      954\n",
       "1985      945\n",
       "1980      811\n",
       "1996      811\n",
       "1984      779\n",
       "1982      744\n",
       "1994      738\n",
       "1972      708\n",
       "1974      676\n",
       "1997      644\n",
       "1992      640\n",
       "1993      608\n",
       "2001      540\n",
       "1988      521\n",
       "1983      488\n",
       "1975      437\n",
       "1986      434\n",
       "1976      414\n",
       "1970      411\n",
       "1991      324\n",
       "1989      316\n",
       "1987      302\n",
       "1981      238\n",
       "1977      202\n",
       "1979      192\n",
       "1973      184\n",
       "2013      176\n",
       "1971      145\n",
       "1960      102\n",
       "1967       88\n",
       "1963       85\n",
       "1968       77\n",
       "1969       59\n",
       "1964       40\n",
       "1962       30\n",
       "1961       21\n",
       "1965       19\n",
       "1966       17\n",
       "Name: construction_year, dtype: int64"
      ]
     },
     "execution_count": 24,
     "metadata": {},
     "output_type": "execute_result"
    }
   ],
   "source": [
    "df_values = pd.read_csv('Pump_it_Up_Data_Mining_the_Water_Table_-_Training_set_values.csv')\n",
    "df_labels = pd.read_csv('Pump_it_Up_Data_Mining_the_Water_Table_-_Training_set_labels.csv')\n",
    "df_values['construction_year'].value_counts()"
   ]
  },
  {
   "cell_type": "code",
   "execution_count": 25,
   "metadata": {},
   "outputs": [
    {
     "data": {
      "text/plain": [
       "Index(['id', 'amount_tsh', 'date_recorded', 'funder', 'gps_height',\n",
       "       'installer', 'longitude', 'latitude', 'wpt_name', 'num_private',\n",
       "       'basin', 'subvillage', 'region', 'region_code', 'district_code', 'lga',\n",
       "       'ward', 'population', 'public_meeting', 'recorded_by',\n",
       "       'scheme_management', 'scheme_name', 'permit', 'construction_year',\n",
       "       'extraction_type', 'extraction_type_group', 'extraction_type_class',\n",
       "       'management', 'management_group', 'payment', 'payment_type',\n",
       "       'water_quality', 'quality_group', 'quantity', 'quantity_group',\n",
       "       'source', 'source_type', 'source_class', 'waterpoint_type',\n",
       "       'waterpoint_type_group', 'status_group'],\n",
       "      dtype='object')"
      ]
     },
     "execution_count": 25,
     "metadata": {},
     "output_type": "execute_result"
    }
   ],
   "source": [
    "df_original = pd.merge(df_values, df_labels, on = 'id', how = 'inner')\n",
    "df_original.columns"
   ]
  },
  {
   "cell_type": "markdown",
   "metadata": {},
   "source": [
    "### Clean data/one hot encoding\n",
    "this portion will look at all the object data points and see whether or not they should be one hot encoded and/or binned.\n",
    "1. filter out all the non-object data types and count the number of unique values to see if they would be uselful for classification. \n",
    "2. Delete columns that have significant overlap or are not good for one-hot-encoding\n",
    "3. For date of recording, we plan on turning this into an interger by subtracting every date from the most recent date to get a value for how many dates have passed."
   ]
  },
  {
   "cell_type": "code",
   "execution_count": 26,
   "metadata": {},
   "outputs": [
    {
     "data": {
      "text/plain": [
       "{'date_recorded': 356,\n",
       " 'funder': 1898,\n",
       " 'installer': 2146,\n",
       " 'wpt_name': 37400,\n",
       " 'basin': 9,\n",
       " 'subvillage': 19288,\n",
       " 'region': 21,\n",
       " 'lga': 125,\n",
       " 'ward': 2092,\n",
       " 'public_meeting': 3,\n",
       " 'recorded_by': 1,\n",
       " 'scheme_management': 13,\n",
       " 'scheme_name': 2697,\n",
       " 'permit': 3,\n",
       " 'extraction_type': 18,\n",
       " 'extraction_type_group': 13,\n",
       " 'extraction_type_class': 7,\n",
       " 'management': 12,\n",
       " 'management_group': 5,\n",
       " 'payment': 7,\n",
       " 'payment_type': 7,\n",
       " 'water_quality': 8,\n",
       " 'quality_group': 6,\n",
       " 'quantity': 5,\n",
       " 'quantity_group': 5,\n",
       " 'source': 10,\n",
       " 'source_type': 7,\n",
       " 'source_class': 3,\n",
       " 'waterpoint_type': 7,\n",
       " 'waterpoint_type_group': 6,\n",
       " 'status_group': 3}"
      ]
     },
     "execution_count": 26,
     "metadata": {},
     "output_type": "execute_result"
    }
   ],
   "source": [
    "uvdict = {}\n",
    "\n",
    "for column in df_original.select_dtypes(exclude=['int','float']):\n",
    "    values_list = df_original[column].unique()\n",
    "    uvdict[column] = len(values_list)\n",
    "\n",
    "uvdict"
   ]
  },
  {
   "cell_type": "code",
   "execution_count": 27,
   "metadata": {},
   "outputs": [
    {
     "data": {
      "text/plain": [
       "Njombe          2503\n",
       "Arusha Rural    1252\n",
       "Moshi Rural     1251\n",
       "Bariadi         1177\n",
       "Rungwe          1106\n",
       "                ... \n",
       "Moshi Urban       79\n",
       "Kigoma Urban      71\n",
       "Arusha Urban      63\n",
       "Lindi Urban       21\n",
       "Nyamagana          1\n",
       "Name: lga, Length: 125, dtype: int64"
      ]
     },
     "execution_count": 27,
     "metadata": {},
     "output_type": "execute_result"
    }
   ],
   "source": [
    "df_original.lga.value_counts()"
   ]
  },
  {
   "cell_type": "code",
   "execution_count": 28,
   "metadata": {},
   "outputs": [
    {
     "data": {
      "text/plain": [
       "{'date_recorded': 0,\n",
       " 'funder': 3635,\n",
       " 'installer': 3655,\n",
       " 'wpt_name': 0,\n",
       " 'basin': 0,\n",
       " 'subvillage': 371,\n",
       " 'region': 0,\n",
       " 'lga': 0,\n",
       " 'ward': 0,\n",
       " 'public_meeting': 3334,\n",
       " 'recorded_by': 0,\n",
       " 'scheme_management': 3877,\n",
       " 'scheme_name': 28166,\n",
       " 'permit': 3056,\n",
       " 'extraction_type': 0,\n",
       " 'extraction_type_group': 0,\n",
       " 'extraction_type_class': 0,\n",
       " 'management': 0,\n",
       " 'management_group': 0,\n",
       " 'payment': 0,\n",
       " 'payment_type': 0,\n",
       " 'water_quality': 0,\n",
       " 'quality_group': 0,\n",
       " 'quantity': 0,\n",
       " 'quantity_group': 0,\n",
       " 'source': 0,\n",
       " 'source_type': 0,\n",
       " 'source_class': 0,\n",
       " 'waterpoint_type': 0,\n",
       " 'waterpoint_type_group': 0,\n",
       " 'status_group': 0}"
      ]
     },
     "execution_count": 28,
     "metadata": {},
     "output_type": "execute_result"
    }
   ],
   "source": [
    "# returns the number of nonvalues in the dictionary\n",
    "nan_dict = {}\n",
    "\n",
    "for column in df_original.select_dtypes(exclude=['int','float']):\n",
    "    nan_dict[column] = df_original[column].isna().sum()\n",
    "\n",
    "nan_dict"
   ]
  },
  {
   "cell_type": "markdown",
   "metadata": {},
   "source": [
    "'recorded_by', 'funder', 'scheme_name' were the three columns to delete outright. Funder was removed because it was nearly identical to installer but contained fewer unique values. For scheme_name, nearly half the data was missing and it seem to relate to scheme management, and 'recorded_by' only has one value making it useless for predictions."
   ]
  },
  {
   "cell_type": "code",
   "execution_count": 29,
   "metadata": {},
   "outputs": [],
   "source": [
    "# columns to delete\n",
    "try:\n",
    "    df_original.drop(['recorded_by', 'funder', 'scheme_name','subvillage'], axis = 1, inplace = True)\n",
    "except:\n",
    "    print('already deleted')\n"
   ]
  },
  {
   "cell_type": "code",
   "execution_count": 30,
   "metadata": {},
   "outputs": [
    {
     "data": {
      "text/plain": [
       "{'date_recorded': 0,\n",
       " 'installer': 3655,\n",
       " 'wpt_name': 0,\n",
       " 'basin': 0,\n",
       " 'region': 0,\n",
       " 'lga': 0,\n",
       " 'ward': 0,\n",
       " 'public_meeting': 3334,\n",
       " 'scheme_management': 3877,\n",
       " 'permit': 3056,\n",
       " 'extraction_type': 0,\n",
       " 'extraction_type_group': 0,\n",
       " 'extraction_type_class': 0,\n",
       " 'management': 0,\n",
       " 'management_group': 0,\n",
       " 'payment': 0,\n",
       " 'payment_type': 0,\n",
       " 'water_quality': 0,\n",
       " 'quality_group': 0,\n",
       " 'quantity': 0,\n",
       " 'quantity_group': 0,\n",
       " 'source': 0,\n",
       " 'source_type': 0,\n",
       " 'source_class': 0,\n",
       " 'waterpoint_type': 0,\n",
       " 'waterpoint_type_group': 0,\n",
       " 'status_group': 0}"
      ]
     },
     "execution_count": 30,
     "metadata": {},
     "output_type": "execute_result"
    }
   ],
   "source": [
    "nan_dict = {}\n",
    "\n",
    "for column in df_original.select_dtypes(exclude=['int','float']):\n",
    "    nan_dict[column] = df_original[column].isna().sum()\n",
    "\n",
    "nan_dict"
   ]
  },
  {
   "cell_type": "code",
   "execution_count": 31,
   "metadata": {},
   "outputs": [],
   "source": [
    "# replace NaN values with 'not_listed string'\n",
    "df_original.loc[:, ['installer', 'scheme_management','public_meeting','permit']] = df_original.loc[:, ['installer', 'scheme_management','subvillage','public_meeting','permit']].fillna('Not known')\n"
   ]
  },
  {
   "cell_type": "code",
   "execution_count": 32,
   "metadata": {},
   "outputs": [
    {
     "data": {
      "text/plain": [
       "other                         19710\n",
       "DWE                           17402\n",
       "Not known                      3672\n",
       "Government                     1825\n",
       "RWE                            1206\n",
       "Commu                          1060\n",
       "DANIDA                         1050\n",
       "KKKT                            898\n",
       "Hesawa                          840\n",
       "0                               777\n",
       "TCRS                            707\n",
       "Central government              622\n",
       "CES                             610\n",
       "Community                       553\n",
       "DANID                           552\n",
       "District Council                551\n",
       "HESAWA                          539\n",
       "World vision                    408\n",
       "LGA                             408\n",
       "WEDECO                          397\n",
       "TASAF                           396\n",
       "District council                392\n",
       "Gover                           383\n",
       "AMREF                           329\n",
       "TWESA                           316\n",
       "WU                              301\n",
       "Dmdd                            287\n",
       "ACRA                            278\n",
       "World Vision                    270\n",
       "SEMA                            249\n",
       "DW                              246\n",
       "OXFAM                           234\n",
       "Da                              224\n",
       "UNICEF                          222\n",
       "Gove                            222\n",
       "Idara ya maji                   222\n",
       "Sengerema Water Department      214\n",
       "Kiliwater                       210\n",
       "NORAD                           208\n",
       "FinW                            208\n",
       "DH                              202\n",
       "Name: installer, dtype: int64"
      ]
     },
     "execution_count": 32,
     "metadata": {},
     "output_type": "execute_result"
    }
   ],
   "source": [
    "# replace values with fewer than 200\n",
    "threshold = 200\n",
    "cols = ['installer','ward']\n",
    "\n",
    "for col in cols:\n",
    "    valued_dict = dict(df_original[col].value_counts())\n",
    "    safe_values = list(key for key, value in valued_dict.items() if value >= threshold)\n",
    "#     replace_values = list(filter(lambda x: x not in safe_values, all_values))\n",
    "    df_original.loc[:, col] = df_original.loc[:, col].map(lambda y: 'other' if y not in safe_values else y)\n",
    "\n",
    "df_original.installer.value_counts()"
   ]
  },
  {
   "cell_type": "code",
   "execution_count": 33,
   "metadata": {},
   "outputs": [
    {
     "data": {
      "text/plain": [
       "0        3215\n",
       "1        2492\n",
       "2        2501\n",
       "3        2529\n",
       "4        3094\n",
       "         ... \n",
       "59395    2434\n",
       "59396    3161\n",
       "59397    3187\n",
       "59398    3221\n",
       "59399    3206\n",
       "Name: days_since, Length: 59400, dtype: int64"
      ]
     },
     "execution_count": 33,
     "metadata": {},
     "output_type": "execute_result"
    }
   ],
   "source": [
    "basedate = datetime(2020, 1, 1)\n",
    "df_original['days_since'] = df_original.loc[:,'date_recorded'].map(lambda x: (basedate - datetime.strptime(x, \"%Y-%m-%d\")).days)\n",
    "df_original['days_since']"
   ]
  },
  {
   "cell_type": "code",
   "execution_count": 34,
   "metadata": {},
   "outputs": [],
   "source": [
    "basedate = date(2020, 1, 1)\n",
    "# df_original['time_since_recording'] = df_original['date_recorded'].dt.days"
   ]
  },
  {
   "cell_type": "code",
   "execution_count": null,
   "metadata": {},
   "outputs": [],
   "source": []
  },
  {
   "cell_type": "code",
   "execution_count": 35,
   "metadata": {},
   "outputs": [
    {
     "name": "stdout",
     "output_type": "stream",
     "text": [
      "<class 'pandas.core.frame.DataFrame'>\n",
      "Int64Index: 59400 entries, 0 to 59399\n",
      "Data columns (total 38 columns):\n",
      "id                       59400 non-null int64\n",
      "amount_tsh               59400 non-null float64\n",
      "date_recorded            59400 non-null object\n",
      "gps_height               59400 non-null int64\n",
      "installer                59400 non-null object\n",
      "longitude                59400 non-null float64\n",
      "latitude                 59400 non-null float64\n",
      "wpt_name                 59400 non-null object\n",
      "num_private              59400 non-null int64\n",
      "basin                    59400 non-null object\n",
      "region                   59400 non-null object\n",
      "region_code              59400 non-null int64\n",
      "district_code            59400 non-null int64\n",
      "lga                      59400 non-null object\n",
      "ward                     59400 non-null object\n",
      "population               59400 non-null int64\n",
      "public_meeting           59400 non-null object\n",
      "scheme_management        59400 non-null object\n",
      "permit                   59400 non-null object\n",
      "construction_year        59400 non-null int64\n",
      "extraction_type          59400 non-null object\n",
      "extraction_type_group    59400 non-null object\n",
      "extraction_type_class    59400 non-null object\n",
      "management               59400 non-null object\n",
      "management_group         59400 non-null object\n",
      "payment                  59400 non-null object\n",
      "payment_type             59400 non-null object\n",
      "water_quality            59400 non-null object\n",
      "quality_group            59400 non-null object\n",
      "quantity                 59400 non-null object\n",
      "quantity_group           59400 non-null object\n",
      "source                   59400 non-null object\n",
      "source_type              59400 non-null object\n",
      "source_class             59400 non-null object\n",
      "waterpoint_type          59400 non-null object\n",
      "waterpoint_type_group    59400 non-null object\n",
      "status_group             59400 non-null object\n",
      "days_since               59400 non-null int64\n",
      "dtypes: float64(3), int64(8), object(27)\n",
      "memory usage: 17.7+ MB\n"
     ]
    }
   ],
   "source": [
    "df_original.info()"
   ]
  },
  {
   "cell_type": "code",
   "execution_count": 17,
   "metadata": {},
   "outputs": [
    {
     "data": {
      "text/plain": [
       "Index(['amount_tsh', 'date_recorded', 'funder', 'gps_height', 'installer',\n",
       "       'longitude', 'latitude', 'wpt_name', 'num_private', 'basin',\n",
       "       'subvillage', 'region', 'region_code', 'district_code', 'lga', 'ward',\n",
       "       'population', 'public_meeting', 'recorded_by', 'scheme_management',\n",
       "       'scheme_name', 'permit', 'construction_year', 'extraction_type',\n",
       "       'extraction_type_group', 'extraction_type_class', 'management',\n",
       "       'management_group', 'payment', 'payment_type', 'water_quality',\n",
       "       'quality_group', 'quantity', 'quantity_group', 'source', 'source_type',\n",
       "       'source_class', 'waterpoint_type', 'waterpoint_type_group',\n",
       "       'status_group'],\n",
       "      dtype='object')"
      ]
     },
     "execution_count": 17,
     "metadata": {},
     "output_type": "execute_result"
    }
   ],
   "source": []
  },
  {
   "cell_type": "code",
   "execution_count": 18,
   "metadata": {},
   "outputs": [],
   "source": []
  },
  {
   "cell_type": "code",
   "execution_count": 20,
   "metadata": {},
   "outputs": [
    {
     "data": {
      "text/plain": [
       "Index(['amount_tsh', 'gps_height', 'longitude', 'latitude', 'num_private',\n",
       "       'region_code', 'district_code', 'population', 'construction_year'],\n",
       "      dtype='object')"
      ]
     },
     "execution_count": 20,
     "metadata": {},
     "output_type": "execute_result"
    }
   ],
   "source": []
  },
  {
   "cell_type": "code",
   "execution_count": null,
   "metadata": {},
   "outputs": [],
   "source": []
  }
 ],
 "metadata": {
  "kernelspec": {
   "display_name": "Python 3 (learn-env)",
   "language": "python",
   "name": "learn-env"
  },
  "language_info": {
   "codemirror_mode": {
    "name": "ipython",
    "version": 3
   },
   "file_extension": ".py",
   "mimetype": "text/x-python",
   "name": "python",
   "nbconvert_exporter": "python",
   "pygments_lexer": "ipython3",
   "version": "3.7.4"
  }
 },
 "nbformat": 4,
 "nbformat_minor": 2
}
